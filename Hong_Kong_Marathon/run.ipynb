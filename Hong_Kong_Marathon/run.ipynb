{
 "cells": [
  {
   "cell_type": "code",
   "execution_count": 1,
   "metadata": {},
   "outputs": [
    {
     "name": "stdout",
     "output_type": "stream",
     "text": [
      "   Overall Position  Gender Position  Category Position Category  Race No  \\\n",
      "0                 1                1                  1      MMS    21080   \n",
      "1                 2                2                  1      MMI       14   \n",
      "2                 3                3                  2      MMI        2   \n",
      "3                 4                4                  2      MMS    21077   \n",
      "4                 5                5                  3      MMI       18   \n",
      "\n",
      "   Country  Official Time Net Time 10km Time Half Way Time 30km Time  \n",
      "0     Kenya       2:12:12  2:12:11   0:30:35       1:04:48   1:33:36  \n",
      "1     Kenya       2:12:14  2:12:13   0:30:34       1:04:48   1:33:36  \n",
      "2  Ethiopia       2:12:20  2:12:18   0:30:35       1:04:49   1:33:36  \n",
      "3     Kenya       2:12:29  2:12:27   0:30:35       1:04:48   1:33:36  \n",
      "4  Ethiopia       2:12:47  2:12:46   0:30:34       1:04:48   1:33:36  \n"
     ]
    }
   ],
   "source": [
    "import pandas as pd\n",
    "import matplotlib.pyplot as plt\n",
    "import seaborn as sns\n",
    "\n",
    "race = pd.read_csv('./challenge.csv')\n",
    "\n",
    "print(race.head())"
   ]
  },
  {
   "cell_type": "code",
   "execution_count": null,
   "metadata": {},
   "outputs": [],
   "source": []
  }
 ],
 "metadata": {
  "kernelspec": {
   "display_name": "Python 3",
   "language": "python",
   "name": "python3"
  },
  "language_info": {
   "codemirror_mode": {
    "name": "ipython",
    "version": 3
   },
   "file_extension": ".py",
   "mimetype": "text/x-python",
   "name": "python",
   "nbconvert_exporter": "python",
   "pygments_lexer": "ipython3",
   "version": "3.6.0"
  }
 },
 "nbformat": 4,
 "nbformat_minor": 2
}
