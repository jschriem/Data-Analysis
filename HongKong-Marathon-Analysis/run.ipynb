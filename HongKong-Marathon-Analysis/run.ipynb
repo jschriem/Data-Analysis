{
 "cells": [
  {
   "cell_type": "code",
   "execution_count": 12,
   "metadata": {},
   "outputs": [
    {
     "name": "stdout",
     "output_type": "stream",
     "text": [
      "   Overall Position  Gender Position  Category Position Category  Race No  \\\n",
      "0                 1                1                  1      MMS    21080   \n",
      "1                 2                2                  1      MMI       14   \n",
      "2                 3                3                  2      MMI        2   \n",
      "3                 4                4                  2      MMS    21077   \n",
      "4                 5                5                  3      MMI       18   \n",
      "\n",
      "   Country  Official Time Net Time 10km Time Half Way Time 30km Time  \n",
      "0     Kenya       2:12:12  2:12:11   0:30:35       1:04:48   1:33:36  \n",
      "1     Kenya       2:12:14  2:12:13   0:30:34       1:04:48   1:33:36  \n",
      "2  Ethiopia       2:12:20  2:12:18   0:30:35       1:04:49   1:33:36  \n",
      "3     Kenya       2:12:29  2:12:27   0:30:35       1:04:48   1:33:36  \n",
      "4  Ethiopia       2:12:47  2:12:46   0:30:34       1:04:48   1:33:36  \n"
     ]
    }
   ],
   "source": [
    "import pandas as pd\n",
    "import matplotlib.pyplot as plt\n",
    "import seaborn as sns\n",
    "\n",
    "race = pd.read_csv('./challenge.csv')\n",
    "\n",
    "print(race.head())"
   ]
  },
  {
   "cell_type": "code",
   "execution_count": 13,
   "metadata": {},
   "outputs": [
    {
     "data": {
      "text/plain": [
       "3:57:35    5\n",
       "5:57:26    4\n",
       "4:24:52    4\n",
       "4:30:36    4\n",
       "5:08:44    4\n",
       "4:40:17    4\n",
       "5:29:19    4\n",
       "3:55:41    4\n",
       "5:33:15    4\n",
       "3:59:36    4\n",
       "5:24:48    4\n",
       "4:06:18    4\n",
       "3:55:00    4\n",
       "3:59:58    4\n",
       "3:27:17    4\n",
       "4:05:05    4\n",
       "5:04:38    4\n",
       "3:28:42    4\n",
       "3:39:34    4\n",
       "3:50:04    4\n",
       "5:24:29    4\n",
       "4:48:15    4\n",
       "3:57:44    4\n",
       "5:21:47    4\n",
       "5:26:34    4\n",
       "5:57:45    4\n",
       "3:41:06    4\n",
       "3:49:33    4\n",
       "4:37:55    3\n",
       "3:36:20    3\n",
       "          ..\n",
       "3:04:07    1\n",
       "5:29:03    1\n",
       "4:21:13    1\n",
       "3:35:09    1\n",
       "4:47:12    1\n",
       "5:34:23    1\n",
       "4:03:38    1\n",
       "5:57:17    1\n",
       "5:59:27    1\n",
       "3:16:43    1\n",
       "5:00:38    1\n",
       "3:13:13    1\n",
       "5:23:53    1\n",
       "4:19:54    1\n",
       "3:37:02    1\n",
       "5:23:09    1\n",
       "4:27:14    1\n",
       "5:42:44    1\n",
       "5:26:10    1\n",
       "3:15:10    1\n",
       "3:15:08    1\n",
       "4:45:41    1\n",
       "5:36:49    1\n",
       "5:03:07    1\n",
       "3:20:37    1\n",
       "3:54:41    1\n",
       "3:12:58    1\n",
       "4:24:45    1\n",
       "3:01:56    1\n",
       "4:50:19    1\n",
       "Name: Official Time, Length: 4377, dtype: int64"
      ]
     },
     "execution_count": 13,
     "metadata": {},
     "output_type": "execute_result"
    }
   ],
   "source": [
    "race['Official Time'].value_counts()"
   ]
  },
  {
   "cell_type": "code",
   "execution_count": 14,
   "metadata": {},
   "outputs": [
    {
     "data": {
      "text/plain": [
       "<matplotlib.collections.PathCollection at 0x1496803c8>"
      ]
     },
     "execution_count": 14,
     "metadata": {},
     "output_type": "execute_result"
    },
    {
     "data": {
      "image/png": "[encoded data removed]",
      "text/plain": [
       "<Figure size 432x288 with 1 Axes>"
      ]
     },
     "metadata": {
      "needs_background": "light"
     },
     "output_type": "display_data"
    }
   ],
   "source": [
    "plt.scatter(race['Official Time'], race['Overall Position'])"
   ]
  },
  {
   "cell_type": "code",
   "execution_count": null,
   "metadata": {},
   "outputs": [],
   "source": []
  }
 ],
 "metadata": {
  "kernelspec": {
   "display_name": "Python 3",
   "language": "python",
   "name": "python3"
  },
  "language_info": {
   "codemirror_mode": {
    "name": "ipython",
    "version": 3
   },
   "file_extension": ".py",
   "mimetype": "text/x-python",
   "name": "python",
   "nbconvert_exporter": "python",
   "pygments_lexer": "ipython3",
   "version": "3.6.0"
  }
 },
 "nbformat": 4,
 "nbformat_minor": 2
}
